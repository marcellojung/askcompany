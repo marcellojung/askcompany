{
 "cells": [
  {
   "cell_type": "code",
   "execution_count": 1,
   "id": "e62f62a8",
   "metadata": {},
   "outputs": [
    {
     "name": "stdout",
     "output_type": "stream",
     "text": [
      "/Users/sungkunjeong/coding/Django/askcompany\n"
     ]
    }
   ],
   "source": [
    "import os\n",
    "print(os.getcwd())\n",
    "os.environ['DJANGO_SETTINGS_MODULE'] = 'askcompany.settings'\n",
    "os.environ[\"DJANGO_ALLOW_ASYNC_UNSAFE\"] = \"true\"\n",
    "\n",
    "import django\n",
    "django.setup()"
   ]
  },
  {
   "cell_type": "code",
   "execution_count": 8,
   "id": "6d2a5c71",
   "metadata": {},
   "outputs": [
    {
     "name": "stdout",
     "output_type": "stream",
     "text": [
      "SELECT \"instagram_post\".\"id\", \"instagram_post\".\"message\", \"instagram_post\".\"photo\", \"instagram_post\".\"is_public\", \"instagram_post\".\"created_at\", \"instagram_post\".\"updated_at\" FROM \"instagram_post\" ORDER BY \"instagram_post\".\"id\" DESC\n"
     ]
    },
    {
     "data": {
      "text/plain": [
       "<QuerySet [<Post: Custom Post Object (7,hello)>, <Post: Custom Post Object (6,first img)>, <Post: Custom Post Object (4,fourth message)>, <Post: Custom Post Object (3,second message)>, <Post: Custom Post Object (2,first message)>, <Post: Custom Post Object (1,instagram message)>]>"
      ]
     },
     "execution_count": 8,
     "metadata": {},
     "output_type": "execute_result"
    }
   ],
   "source": [
    "from instagram.models import Post\n",
    "qs = Post.objects.all().order_by('-id')\n",
    "print(qs.query)\n",
    "qs"
   ]
  },
  {
   "cell_type": "code",
   "execution_count": 16,
   "id": "92cd43f0",
   "metadata": {},
   "outputs": [
    {
     "name": "stdout",
     "output_type": "stream",
     "text": [
      "hello 2023-01-22 14:04:55.381528+00:00\n",
      "id : 7, message : hello, create: 2023-01-22 14:04:55.381528+00:00\n",
      "{'_state': <django.db.models.base.ModelState object at 0x7f81981e7250>, 'id': 7, 'message': 'hello', 'photo': 'Ocher.png', 'is_public': True, 'created_at': datetime.datetime(2023, 1, 22, 14, 4, 55, 381528, tzinfo=<UTC>), 'updated_at': datetime.datetime(2023, 1, 22, 14, 4, 55, 381558, tzinfo=<UTC>)}\n",
      "first img 2023-01-20 08:39:06.452259+00:00\n",
      "id : 6, message : first img, create: 2023-01-20 08:39:06.452259+00:00\n",
      "{'_state': <django.db.models.base.ModelState object at 0x7f8179451be0>, 'id': 6, 'message': 'first img', 'photo': 'Cyan.png', 'is_public': True, 'created_at': datetime.datetime(2023, 1, 20, 8, 39, 6, 452259, tzinfo=<UTC>), 'updated_at': datetime.datetime(2023, 1, 20, 8, 39, 6, 452306, tzinfo=<UTC>)}\n",
      "fourth message 2023-01-20 08:21:00.934979+00:00\n",
      "id : 4, message : fourth message, create: 2023-01-20 08:21:00.934979+00:00\n",
      "{'_state': <django.db.models.base.ModelState object at 0x7f817a93e580>, 'id': 4, 'message': 'fourth message', 'photo': '', 'is_public': True, 'created_at': datetime.datetime(2023, 1, 20, 8, 21, 0, 934979, tzinfo=<UTC>), 'updated_at': datetime.datetime(2023, 1, 20, 8, 21, 0, 935027, tzinfo=<UTC>)}\n",
      "second message 2023-01-20 07:54:29.176218+00:00\n",
      "id : 3, message : second message, create: 2023-01-20 07:54:29.176218+00:00\n",
      "{'_state': <django.db.models.base.ModelState object at 0x7f817a93ed90>, 'id': 3, 'message': 'second message', 'photo': '', 'is_public': False, 'created_at': datetime.datetime(2023, 1, 20, 7, 54, 29, 176218, tzinfo=<UTC>), 'updated_at': datetime.datetime(2023, 1, 20, 7, 54, 29, 176274, tzinfo=<UTC>)}\n",
      "first message 2023-01-20 07:54:24.309469+00:00\n",
      "id : 2, message : first message, create: 2023-01-20 07:54:24.309469+00:00\n",
      "{'_state': <django.db.models.base.ModelState object at 0x7f817a93edc0>, 'id': 2, 'message': 'first message', 'photo': '', 'is_public': False, 'created_at': datetime.datetime(2023, 1, 20, 7, 54, 24, 309469, tzinfo=<UTC>), 'updated_at': datetime.datetime(2023, 1, 20, 7, 54, 24, 309532, tzinfo=<UTC>)}\n",
      "instagram message 2023-01-20 07:51:04.794543+00:00\n",
      "id : 1, message : instagram message, create: 2023-01-20 07:51:04.794543+00:00\n",
      "{'_state': <django.db.models.base.ModelState object at 0x7f817a93ef70>, 'id': 1, 'message': 'instagram message', 'photo': '', 'is_public': False, 'created_at': datetime.datetime(2023, 1, 20, 7, 51, 4, 794543, tzinfo=<UTC>), 'updated_at': datetime.datetime(2023, 1, 20, 7, 51, 4, 794612, tzinfo=<UTC>)}\n"
     ]
    }
   ],
   "source": [
    "for post in qs:\n",
    "    print(post.message,post.created_at)\n",
    "    print(\"id : {id}, message : {message}, create: {created_at}\".format(**post.__dict__))\n",
    "    print(post.__dict__)"
   ]
  },
  {
   "cell_type": "code",
   "execution_count": 20,
   "id": "e27acfe7",
   "metadata": {},
   "outputs": [
    {
     "name": "stdout",
     "output_type": "stream",
     "text": [
      "SELECT \"instagram_post\".\"id\", \"instagram_post\".\"message\", \"instagram_post\".\"photo\", \"instagram_post\".\"is_public\", \"instagram_post\".\"created_at\", \"instagram_post\".\"updated_at\" FROM \"instagram_post\" WHERE \"instagram_post\".\"message\" LIKE first% ESCAPE '\\'\n"
     ]
    },
    {
     "data": {
      "text/plain": [
       "<QuerySet [<Post: Custom Post Object (2,first message)>, <Post: Custom Post Object (6,first img)>]>"
      ]
     },
     "execution_count": 20,
     "metadata": {},
     "output_type": "execute_result"
    }
   ],
   "source": [
    "query = \"first\"\n",
    "qs = Post.objects.all().filter(message__startswith='first')\n",
    "print(qs.query)\n",
    "qs"
   ]
  },
  {
   "cell_type": "code",
   "execution_count": 21,
   "id": "130e123b",
   "metadata": {},
   "outputs": [
    {
     "name": "stdout",
     "output_type": "stream",
     "text": [
      "SELECT \"instagram_post\".\"id\", \"instagram_post\".\"message\", \"instagram_post\".\"photo\", \"instagram_post\".\"is_public\", \"instagram_post\".\"created_at\", \"instagram_post\".\"updated_at\" FROM \"instagram_post\" WHERE (\"instagram_post\".\"id\" >= 2 AND \"instagram_post\".\"message\" LIKE %first% ESCAPE '\\')\n"
     ]
    }
   ],
   "source": [
    "from django.db.models import Q\n",
    "qs = Post.objects.all()\n",
    "qs = qs.filter(id__gte=2 , message__icontains=query)\n",
    "print(qs.query)"
   ]
  },
  {
   "cell_type": "code",
   "execution_count": 26,
   "id": "ccfc2742",
   "metadata": {},
   "outputs": [
    {
     "name": "stdout",
     "output_type": "stream",
     "text": [
      "SELECT \"instagram_post\".\"id\", \"instagram_post\".\"message\", \"instagram_post\".\"photo\", \"instagram_post\".\"is_public\", \"instagram_post\".\"created_at\", \"instagram_post\".\"updated_at\" FROM \"instagram_post\" WHERE (\"instagram_post\".\"id\" >= 2 AND \"instagram_post\".\"message\" LIKE %first% ESCAPE '\\' AND (\"instagram_post\".\"id\" >= 2 OR \"instagram_post\".\"message\" LIKE %first% ESCAPE '\\'))\n"
     ]
    }
   ],
   "source": [
    "qs2 = qs.filter(Q(id__gte=2) | Q(message__icontains=query))\n",
    "print(qs2.query)"
   ]
  }
 ],
 "metadata": {
  "kernelspec": {
   "display_name": "Python 3 (ipykernel)",
   "language": "python",
   "name": "python3"
  },
  "language_info": {
   "codemirror_mode": {
    "name": "ipython",
    "version": 3
   },
   "file_extension": ".py",
   "mimetype": "text/x-python",
   "name": "python",
   "nbconvert_exporter": "python",
   "pygments_lexer": "ipython3",
   "version": "3.9.7"
  },
  "toc": {
   "base_numbering": 1,
   "nav_menu": {},
   "number_sections": true,
   "sideBar": true,
   "skip_h1_title": false,
   "title_cell": "Table of Contents",
   "title_sidebar": "Contents",
   "toc_cell": false,
   "toc_position": {},
   "toc_section_display": true,
   "toc_window_display": true
  }
 },
 "nbformat": 4,
 "nbformat_minor": 5
}
